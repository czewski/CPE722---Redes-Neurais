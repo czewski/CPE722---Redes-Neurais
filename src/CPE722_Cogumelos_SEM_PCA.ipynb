{
  "nbformat": 4,
  "nbformat_minor": 0,
  "metadata": {
    "colab": {
      "name": "CPE722 - Cogumelos SEM PCA.ipynb",
      "provenance": [],
      "collapsed_sections": []
    },
    "kernelspec": {
      "name": "python3",
      "display_name": "Python 3"
    },
    "language_info": {
      "name": "python"
    }
  },
  "cells": [
    {
      "cell_type": "code",
      "execution_count": null,
      "metadata": {
        "id": "0O9ZFajLbAb_"
      },
      "outputs": [],
      "source": [
        "import matplotlib.pyplot as plt\n",
        "import pandas\n",
        "import seaborn\n",
        "import numpy\n",
        "import warnings\n",
        "import random\n",
        "import matplotlib as mpl\n",
        "import seaborn as sns\n",
        "sns.set(style=\"white\", color_codes=True)\n",
        "import warnings\n",
        "warnings.filterwarnings(\"ignore\")\n",
        "%matplotlib inline"
      ]
    },
    {
      "cell_type": "code",
      "source": [
        "# %% Leitura de dados ===================================================\n",
        "missing_values = [\"?\"]\n",
        "df = pandas.read_csv(\"cogumelos.csv\", sep=',', na_values = missing_values)#, na_values = missing_values"
      ],
      "metadata": {
        "id": "qSvk1KQVbBLL"
      },
      "execution_count": null,
      "outputs": []
    },
    {
      "cell_type": "code",
      "source": [
        "#%% maybe drop this First, the veil-type variable has only one value, 'p', meaning, every mushroom has the same veil-type. And because, every mushrrom has that same veil-type: that column doesn't tell us anything useful - so we can drop that column.\n",
        "df.drop(['veil-type'], axis=1, inplace=True)\n",
        "# Excluindo também a variável 'stalk-root\", que apresenta dados nulos\n",
        "df.drop(['stalk-root'], axis=1, inplace=True)\n"
      ],
      "metadata": {
        "id": "rEyuOEbubBY_"
      },
      "execution_count": null,
      "outputs": []
    },
    {
      "cell_type": "markdown",
      "source": [
        "Análise exploratória de dados"
      ],
      "metadata": {
        "id": "sNLziTIn4eDr"
      }
    },
    {
      "cell_type": "code",
      "source": [
        "#%% verificar soma de cada atributo em parametro e plotar graficos\n",
        "for attr in df.columns:\n",
        "    print('\\n*', attr, '*')\n",
        "    print(df[attr].value_counts())\n",
        "    plt.figure()\n",
        "    seaborn.countplot(df[attr])"
      ],
      "metadata": {
        "id": "RF_2A5RKbBWq"
      },
      "execution_count": null,
      "outputs": []
    },
    {
      "cell_type": "code",
      "source": [
        "# %% Distribuição ===================================================\n",
        "x = df['y'].value_counts().to_list()\n",
        "colors = ['#D1345B','#34D1BF']\n",
        "labels = [\"Comestível\", \"Venenoso\"]\n",
        "plt.title('Distribuição de Classes')\n",
        "plt.pie(x, labels=labels, autopct=\"%1.2f%%\", colors=colors[::-1], explode=[0, 0.1])"
      ],
      "metadata": {
        "id": "Rx6G61a1b9PR",
        "outputId": "801ba4d1-7250-448e-9246-068486e932a3",
        "colab": {
          "base_uri": "https://localhost:8080/",
          "height": 374
        }
      },
      "execution_count": null,
      "outputs": [
        {
          "output_type": "execute_result",
          "data": {
            "text/plain": [
              "([<matplotlib.patches.Wedge at 0x7f78d9e0bc90>,\n",
              "  <matplotlib.patches.Wedge at 0x7f78c7895290>],\n",
              " [Text(-0.11476344198936864, 1.0939969617794891, 'Comestível'),\n",
              "  Text(0.12519637043125123, -1.1934512427539052, 'Venenoso')],\n",
              " [Text(-0.06259824108511015, 0.5967256155160849, '53.33%'),\n",
              "  Text(0.07303121608489654, -0.6961798916064448, '46.67%')])"
            ]
          },
          "metadata": {},
          "execution_count": 4
        },
        {
          "output_type": "display_data",
          "data": {
            "image/png": "[encoded data removed]",
            "text/plain": [
              "<Figure size 432x288 with 1 Axes>"
            ]
          },
          "metadata": {}
        }
      ]
    },
    {
      "cell_type": "markdown",
      "source": [
        "\n",
        "ANÁLISE DE MODELOS\n",
        "---\n",
        "\n"
      ],
      "metadata": {
        "id": "-rMC2U2l4nbQ"
      }
    },
    {
      "cell_type": "code",
      "source": [
        "import random\n",
        "from sklearn.preprocessing import LabelEncoder"
      ],
      "metadata": {
        "id": "_sIKyXTwb9ci"
      },
      "execution_count": null,
      "outputs": []
    },
    {
      "cell_type": "markdown",
      "source": [
        "Convertendo dados categóricos em numéricos esparsos"
      ],
      "metadata": {
        "id": "Klc24KAG3zoF"
      }
    },
    {
      "cell_type": "code",
      "source": [
        "#%% encode 2 valued columns  ** Transformando dados de variáveis binárias em números\n",
        "for col in df.columns:\n",
        "    if len(df[col].value_counts()) == 2:\n",
        "        le = LabelEncoder()\n",
        "        df[col] = le.fit_transform(df[col])\n",
        "\n",
        "#%% drop result (class)\n",
        "result = df['y']\n",
        "df.drop(['y'], inplace=True, axis = 1)\n",
        "\n",
        "# Convertendo dados categóricos da classificação (y) em numéricos\n",
        "for col in result:\n",
        "        le2 = LabelEncoder()\n",
        "        result = le2.fit_transform(result)\n",
        "\n",
        "#%% one hot encoding - codificação esparça\n",
        "#Definindo variaveis categoricas. \n",
        "cat = df[['cap-shape', 'cap-surface', 'cap-color', 'bruises', 'odor', 'gill-attachment', 'gill-spacing', 'gill-size', 'gill-color', 'stalk-shape', 'stalk-surface-above-ring', 'stalk-surface-below-ring', 'stalk-color-above-ring', 'stalk-color-below-ring', 'veil-color', 'ring-number', 'ring-type', 'spore-print-color', 'population', 'habitat']].copy()\n",
        "\n",
        "for item in cat:\n",
        "    # assigning the encoded df into a new dfFrame object\n",
        "    df1 = pandas.get_dummies(df[item], prefix=item)\n",
        "    df = df.drop(item, axis=1)\n",
        "    for categorial_feature in df1.columns:\n",
        "        #Set the new column in df to have corresponding df values\n",
        "        df[categorial_feature] = df1[categorial_feature]\n",
        "        "
      ],
      "metadata": {
        "id": "gl3lZcajgL4d"
      },
      "execution_count": null,
      "outputs": []
    },
    {
      "cell_type": "code",
      "source": [
        "#Descobri que nao da pra usar Validação Cruzada em Cluster, entao fica assim\n",
        "from sklearn.model_selection import train_test_split\n",
        "\n",
        "#split 70/30, sem Y\n",
        "X_train, X_test, Y_train, Y_test = train_test_split(df, result, test_size= 0.3, random_state=50)\n",
        "print(\"Observações em Treino\", len(X_train))\n",
        "print(\"Observações em Teste\", len(X_test))\n",
        "print(\"Linhas Totais\", len(result))"
      ],
      "metadata": {
        "colab": {
          "base_uri": "https://localhost:8080/"
        },
        "id": "PjGyCqPExR-K",
        "outputId": "3ac8935b-2e2a-4ae2-dad0-946499624a53"
      },
      "execution_count": null,
      "outputs": [
        {
          "output_type": "stream",
          "name": "stdout",
          "text": [
            "Observações em Treino 5891\n",
            "Observações em Teste 2525\n",
            "Linhas Totais 8416\n"
          ]
        }
      ]
    },
    {
      "cell_type": "markdown",
      "source": [
        "Análise de Outliers (precisa desenvolver)"
      ],
      "metadata": {
        "id": "fXstryZfxau0"
      }
    },
    {
      "cell_type": "code",
      "source": [
        "#Outliers"
      ],
      "metadata": {
        "id": "6rf23bHRzjl-"
      },
      "execution_count": null,
      "outputs": []
    },
    {
      "cell_type": "code",
      "source": [
        "#Correlação >95"
      ],
      "metadata": {
        "id": "BY6gq0sGxgj3"
      },
      "execution_count": null,
      "outputs": []
    },
    {
      "cell_type": "markdown",
      "source": [
        "Aplicando clusterização K-means"
      ],
      "metadata": {
        "id": "hzVxtXMkcxY8"
      }
    },
    {
      "cell_type": "code",
      "source": [
        "from sklearn.cluster import KMeans\n",
        "\n",
        "x_2d = X_train\n",
        "\n",
        "nclusters = 2 # this is the k in kmeans\n",
        "km = KMeans(n_clusters=nclusters, random_state=0)\n",
        "km.fit(x_2d)\n",
        "\n",
        "# predict the cluster for each data point\n",
        "y_cluster_kmeans = km.predict(X_test)\n",
        "\n",
        "# Y_means = km.fit(Y_test)\n",
        "# print(\"Y K-Means\",len(y_cluster_kmeans))\n",
        "# print(\"Y True\", len(Y_train))"
      ],
      "metadata": {
        "id": "vLzyPWJliS3G"
      },
      "execution_count": null,
      "outputs": []
    },
    {
      "cell_type": "code",
      "source": [
        "!pip install minisom"
      ],
      "metadata": {
        "id": "TRDKh6uP86DX",
        "colab": {
          "base_uri": "https://localhost:8080/"
        },
        "outputId": "6dc9d42b-d7e2-4d58-d902-908a0a6bbdbc"
      },
      "execution_count": null,
      "outputs": [
        {
          "output_type": "stream",
          "name": "stdout",
          "text": [
            "Requirement already satisfied: minisom in /usr/local/lib/python3.7/dist-packages (2.2.9)\n"
          ]
        }
      ]
    },
    {
      "cell_type": "code",
      "source": [
        "# SOM\n",
        "from minisom import MiniSom\n",
        "import pandas as pd\n",
        "import numpy as np\n",
        "import matplotlib.pyplot as plt\n",
        "from matplotlib.patches import RegularPolygon, Ellipse\n",
        "from mpl_toolkits.axes_grid1 import make_axes_locatable\n",
        "from matplotlib import cm, colorbar\n",
        "from matplotlib.lines import Line2D\n",
        "\n",
        "# display matplotlib plots in notebook\n",
        "%matplotlib inline"
      ],
      "metadata": {
        "id": "WfetTkQj1WMe"
      },
      "execution_count": null,
      "outputs": []
    },
    {
      "cell_type": "code",
      "source": [
        "# initialization and training of 15x15 SOM\n",
        "data = X_train.to_numpy()\n",
        "\n",
        "som = MiniSom(15, 15, data.shape[1], sigma=1.5, learning_rate=.5, activation_distance='euclidean',\n",
        "              topology='hexagonal', neighborhood_function='gaussian', random_seed=10)\n",
        "\n",
        "som.train(data, 1000, verbose=True)"
      ],
      "metadata": {
        "colab": {
          "base_uri": "https://localhost:8080/"
        },
        "id": "oclQd1cKGmKk",
        "outputId": "3cd58d68-9985-47d3-d492-28d4259c3ec8"
      },
      "execution_count": null,
      "outputs": [
        {
          "output_type": "stream",
          "name": "stdout",
          "text": [
            " [ 1000 / 1000 ] 100% - 0:00:00 left \n",
            " quantization error: 1.8693503294114222\n"
          ]
        }
      ]
    },
    {
      "cell_type": "code",
      "source": [
        "xx, yy = som.get_euclidean_coordinates()\n",
        "umatrix = som.distance_map()\n",
        "weights = som.get_weights()\n",
        "t = Y_train"
      ],
      "metadata": {
        "id": "Epd8vkceITmI"
      },
      "execution_count": null,
      "outputs": []
    },
    {
      "cell_type": "code",
      "source": [
        "def classify(som, data, class_assignments):\n",
        "    winmap = class_assignments\n",
        "    default_class = np.sum(list(winmap.values())).most_common()[0][0]\n",
        "    result = []\n",
        "    for d in data:\n",
        "        win_position = som.winner(d)\n",
        "        if win_position in winmap:\n",
        "            result.append(winmap[win_position].most_common()[0][0])\n",
        "        else:\n",
        "            result.append(default_class)\n",
        "    return result"
      ],
      "metadata": {
        "id": "DNOFreOXObgf"
      },
      "execution_count": null,
      "outputs": []
    },
    {
      "cell_type": "code",
      "source": [
        "class_assignments = som.labels_map(X_test.to_numpy(), Y_test)\n",
        "Y_SOM_result = classify(som, X_test.to_numpy(), class_assignments)"
      ],
      "metadata": {
        "id": "_nt7krULMias"
      },
      "execution_count": null,
      "outputs": []
    },
    {
      "cell_type": "code",
      "source": [
        "#PLOT MONSTRUOSO DO HEXAGONO QUE EU NÃO FAÇO IDEIA DO QUE SIGNIFICA MAS TODA UTILIZAÇÃO DE SOM FAZ ISSO\n",
        "#PRECISO DESCOBRIR AINDA SE 0 = EDIBLE?????? NAO FAÇO IDEIA\n",
        "\n",
        "# Eu perguntei a ele na aula.  Para usar esse hexágono, temos que saber se um hexágono classificado como 0 \n",
        "# junta quais amostras da base, e a partir deste grupo, ver se são comestíveis ou venenosos.  Esse é o problema!\n",
        "# Por essa razão que não quiz usar o MINISOM!  Achei a versão do sklearn melhor.  Acho que podemos usar este, se você \n",
        "# implementar o teste de silheta nele, demonstrando, pelo menos mais eficiência.\n",
        "\n",
        "f = plt.figure(figsize=(10,10))\n",
        "ax = f.add_subplot(111)\n",
        "\n",
        "ax.set_aspect('equal')\n",
        "\n",
        "# iteratively add hexagons\n",
        "for i in range(weights.shape[0]):\n",
        "    for j in range(weights.shape[1]):\n",
        "        wy = yy[(i, j)] * np.sqrt(3) / 2\n",
        "        hex = RegularPolygon((xx[(i, j)], wy), \n",
        "                             numVertices=6, \n",
        "                             radius=.95 / np.sqrt(3),\n",
        "                             facecolor=cm.Blues(umatrix[i, j]), \n",
        "                             alpha=.4, \n",
        "                             edgecolor='gray')\n",
        "        ax.add_patch(hex)\n",
        "\n",
        "markers = ['o', '+', 'x']\n",
        "colors = ['C0', 'C1', 'C2']\n",
        "for cnt, x in enumerate(data):\n",
        "    # getting the winner\n",
        "    w = som.winner(x)\n",
        "    # place a marker on the winning position for the sample xx\n",
        "    wx, wy = som.convert_map_to_euclidean(w) \n",
        "    wy = wy * np.sqrt(3) / 2\n",
        "    plt.plot(wx, wy, \n",
        "             markers[t[cnt]-1], \n",
        "             markerfacecolor='None',\n",
        "             markeredgecolor=colors[t[cnt]-1], \n",
        "             markersize=12, \n",
        "             markeredgewidth=2)\n",
        "\n",
        "xrange = np.arange(weights.shape[0])\n",
        "yrange = np.arange(weights.shape[1])\n",
        "plt.xticks(xrange-.5, xrange)\n",
        "plt.yticks(yrange * np.sqrt(3) / 2, yrange)\n",
        "\n",
        "divider = make_axes_locatable(plt.gca())\n",
        "ax_cb = divider.new_horizontal(size=\"5%\", pad=0.05)    \n",
        "cb1 = colorbar.ColorbarBase(ax_cb, cmap=cm.Blues, \n",
        "                            orientation='vertical', alpha=.4)\n",
        "cb1.ax.get_yaxis().labelpad = 16\n",
        "cb1.ax.set_ylabel('distance from neurons in the neighbourhood',\n",
        "                  rotation=270, fontsize=16)\n",
        "plt.gcf().add_axes(ax_cb)\n",
        "\n",
        "legend_elements = [Line2D([0], [0], marker='o', color='C0', label='0',\n",
        "                   markerfacecolor='w', markersize=14, linestyle='None', markeredgewidth=2),\n",
        "                   #Line2D([0], [0], marker='+', color='C1', label='Rosa',\n",
        "                   #markerfacecolor='w', markersize=14, linestyle='None', markeredgewidth=2),\n",
        "                   Line2D([0], [0], marker='x', color='C2', label='1',\n",
        "                   markerfacecolor='w', markersize=14, linestyle='None', markeredgewidth=2)]\n",
        "ax.legend(handles=legend_elements, bbox_to_anchor=(0.1, 1.08), loc='upper left', \n",
        "          borderaxespad=0., ncol=3, fontsize=14)\n",
        "\n",
        "#plt.savefig('resulting_images/som_seed_hex.png')\n",
        "plt.show()"
      ],
      "metadata": {
        "id": "d_4z4L4eIVys"
      },
      "execution_count": null,
      "outputs": []
    },
    {
      "cell_type": "markdown",
      "source": [
        "Análise de qualidade do classificador"
      ],
      "metadata": {
        "id": "eClrv5LLBSLL"
      }
    },
    {
      "cell_type": "code",
      "source": [
        "# Utilizando \"adjusted Rand score\" ou Taxa de acerto ajustada - mede a similaridade entre a classe (y) da base e\n",
        "# a classificação (result). \n",
        "\n",
        "# Em classificação pobre, o score será negativo ou próximo de 0 \n",
        "\n",
        "# see http://scikit-learn.org/stable/modules/generated/sklearn.metrics.adjusted_rand_score.html\n",
        "from sklearn.metrics.cluster import adjusted_rand_score\n",
        "\n",
        "# first let's see how the k-means clustering did - \n",
        "score_kmeans = adjusted_rand_score(Y_test, y_cluster_kmeans)\n",
        "score_som = adjusted_rand_score(Y_test, Y_SOM_result)\n",
        "print(\"Rand Score K-Means: \",score_kmeans)\n",
        "print(\"Rand Score SOM: \",score_som)"
      ],
      "metadata": {
        "colab": {
          "base_uri": "https://localhost:8080/"
        },
        "id": "B1eUaG554XHU",
        "outputId": "e6920259-21e6-4fd1-f689-57a08cdaefd8"
      },
      "execution_count": null,
      "outputs": [
        {
          "output_type": "stream",
          "name": "stdout",
          "text": [
            "Rand Score K-Means:  0.5955951122529463\n",
            "Rand Score SOM:  0.9826432472178013\n"
          ]
        }
      ]
    },
    {
      "cell_type": "markdown",
      "source": [
        "Coeficiente de Silhueta"
      ],
      "metadata": {
        "id": "fZm295fw3u5m"
      }
    },
    {
      "cell_type": "code",
      "source": [
        "# De https://scikit-learn.org/stable/modules/clustering.html#clustering-performance-evaluation\n",
        "# O score é limitado entre -1 e +1\n",
        "\n",
        "from sklearn.metrics import pairwise_distances\n",
        "from sklearn import metrics\n",
        "score_kmeans = metrics.silhouette_score(X_test, y_cluster_kmeans, metric='euclidean')\n",
        "score_SOM    = metrics.silhouette_score(X_test, Y_SOM_result, metric='euclidean')\n",
        "print(\"Silhouette Score K-means: \",score_kmeans)\n",
        "print(\"Silhouette Score SOM: \",score_SOM)"
      ],
      "metadata": {
        "id": "U_ebDdcA8ZFf",
        "colab": {
          "base_uri": "https://localhost:8080/"
        },
        "outputId": "447d5389-f375-440c-b08b-32b34af3467b"
      },
      "execution_count": null,
      "outputs": [
        {
          "output_type": "stream",
          "name": "stdout",
          "text": [
            "Silhouette Score K-means:  0.1595315884540729\n",
            "Silhouette Score SOM:  0.11857659338293111\n"
          ]
        }
      ]
    },
    {
      "cell_type": "markdown",
      "source": [
        "Utilizando Clusterização de modelo de mistura gaussiana (Gaussian Mixture Model - GMM) com todas as variáveis"
      ],
      "metadata": {
        "id": "JLapvaKtnn4c"
      }
    },
    {
      "cell_type": "code",
      "source": [
        "from sklearn.mixture import GaussianMixture\n",
        "\n",
        "gmm = GaussianMixture(n_components=2)\n",
        "gmm.fit(X)\n",
        "\n",
        "# predict the cluster for each data point\n",
        "y_cluster_gmm = gmm.predict(X)\n",
        "y_cluster_gmm"
      ],
      "metadata": {
        "id": "pNltsxyVkcBa"
      },
      "execution_count": null,
      "outputs": []
    },
    {
      "cell_type": "code",
      "source": [
        "df_plot['ClusterGMM'] = y_cluster_gmm\n",
        "plotData(df_plot, 'result')\n",
        "plotData(df_plot, 'ClusterGMM')"
      ],
      "metadata": {
        "id": "RtsIRUG3--8n"
      },
      "execution_count": null,
      "outputs": []
    },
    {
      "cell_type": "markdown",
      "source": [
        "Análise de qualidade do classificador"
      ],
      "metadata": {
        "id": "9lCYti8Un7cn"
      }
    },
    {
      "cell_type": "markdown",
      "source": [
        "Taxa de Acerto ajustada do modelo de mistura gaussiana (Gaussian Mixture Model - GMM)"
      ],
      "metadata": {
        "id": "Uby6VSjin7cn"
      }
    },
    {
      "cell_type": "markdown",
      "source": [
        "Avaliação de Silhueta do modelo de mistura gaussiana (Gaussian Mixture Model - GMM)"
      ],
      "metadata": {
        "id": "-FqsOySiz09h"
      }
    },
    {
      "cell_type": "markdown",
      "source": [
        "Utilizando clusterização por SOM"
      ],
      "metadata": {
        "id": "dyNxZabMVcQH"
      }
    },
    {
      "cell_type": "markdown",
      "source": [
        "Calculando a relação m x n através das variâncias"
      ],
      "metadata": {
        "id": "ndJ2pznkf2kt"
      }
    },
    {
      "cell_type": "code",
      "source": [
        "# x_2d.describe()\n",
        "var1 = x_2d.PC1.var(axis=0)\n",
        "var2 = x_2d.PC2.var(axis=0)\n",
        "var = var1/var2\n",
        "rel = numpy.sqrt(x_2d.PC1.var(axis=0) / x_2d.PC2.var(axis=0))\n",
        "print(rel)"
      ],
      "metadata": {
        "id": "KfPoJn9MYXuG"
      },
      "execution_count": null,
      "outputs": []
    },
    {
      "cell_type": "code",
      "source": [
        "##\n",
        "# FALTA PRE PROCESSAMENTO (??) - ANALISAR OUTLIER E DADOS FALTANTES (não consegui concluir)\n",
        "# FALTA COLOCAR MATRIZ DE CONFUSÃO "
      ],
      "metadata": {
        "id": "hVnBEJrVgLgJ"
      },
      "execution_count": null,
      "outputs": []
    },
    {
      "cell_type": "code",
      "source": [
        ""
      ],
      "metadata": {
        "id": "MCRbB2bWs16_"
      },
      "execution_count": null,
      "outputs": []
    },
    {
      "cell_type": "markdown",
      "source": [
        "        Introdução, motivação ao uso.\n",
        "        Classificadores, Classificação por similaridade\n",
        "        Aprendizado Supervisionado e Não Supervisionado\n",
        "        Clusterização, propriedades das classes \n",
        "        Geração de padrões e classificação \n",
        "        Clusterização, processos clássicos\n",
        "\n",
        "\n",
        " Redes Neurais em Clusterização \n",
        " Quantização Vetorial \n",
        " Ruído \n",
        " Camada de Kohonen Simplificada \n",
        " Rede ART  Counterpropagation \n",
        " Classes não esféricas \n",
        " SOM\n",
        " Pré-processamento \n",
        " Demonstrativos e exemplos\n",
        "\n",
        "1) CLASSIFICADOR PRECISA DE CODIFICAÇÃO ESPARSA NA SAIDA SE É MAIS DE 2, NO NOSSO CASO É BINARIO. \n",
        "2) criterio de similaridade (usar esse termo falando de clusterização)\n",
        "\t2.1) Determinar classes e classificar as entradas\n",
        "3) Minimizar a dispersão intra classe total (???????)\n",
        "4) Precisamos (mesmo sabendo já) adicionar uma heuristica do treinamento com o \"agrupamento natural) \n",
        "\t4.1) um agrupamento “natural” (um número N “bom” de classes) é alcançado na vizinhança imediata de uma grande variação em Fin.\n",
        "\t4.2) precisa analisar a dispersão total\n",
        "\t4.3) explicar kmeans, reclassificar entradas e atualizar os centros.\n",
        "\t\t5) baricentro é escolhido como padrao pra minimizar dissimilaridade e o erro de represent.\n",
        "\t4.4) algum algoritmo hierárquico pra comparar?\n",
        "\n",
        "5) Criterio de separação usado? hiperplanos: (diagrama) de Voronoi\n",
        "\t5.1) Usamos o criterio de similaridade minima (ou maxima) + hiperplano\n",
        "\n",
        "6) PRECISA ver esse negocio de dispersão, erro RMS de representação e FIN a minimizar.\n",
        "\n",
        "7) Uma classe pode ter subclasse\n",
        "\t7.1) Caso nao supervisionado: identificar o RUIDO do cluster. p(x)\n",
        "\t7.2) precisa tratar o ruido \n",
        "\t7.3) branqueamento do ruido VER PG. 6\n",
        "\t7.4) O uso de PCA sugere a eliminação de componentes pouco relevantes, i.e., com pequenos\n",
        "\n",
        "7 - PRECISAMOS FAZER GRAFICO DE BARRAS MOSTRANDO A QUANTIDADE DE CADA CLASSE, DISTRIBUIÇÃO ETC\n",
        "\n",
        "10) KOHONEN - apenas o neuronio vencedor treina.  (SOM) mapas auto organizaveis de hkohonem\n",
        "\t10.1) POS TREINAMENTO - neuronios pouco (ou nao) treinados ou sem população, retirar\n",
        "\tb) classes com baixa população, verificar se tiveram um padrao?\n",
        "\tc) ver se algum neuronio esta partilhando a mesma classe?\n",
        "\td) ver se um neuronio está em duas classes?\n",
        "\n",
        "11) SOM - criterios de pertinencia - competitividade por quem vai treinar\n",
        "\t11.1) maior similaridade com o baricentro (sinapses)\n",
        "\tb) neuronio como medidor de similaridade. \n",
        "\tc) CONSCIENCIA???????\n",
        "\n",
        "\n",
        "15) explicação de SOM\n",
        "\t1) tentar identificar as 3 fases no trabalho.\n",
        "\t\ta) verifica o neuronio ganhador\n",
        "\t\tb) verifica os vizinhos de Ni \n",
        "\t\tc) atualizar as sinapses dos vizinhos\n",
        "\t2) tem heuristica pra dimensionar o mapa neuronioos (N = 5*raiz(n)) - numero de instancias\n",
        "\t\n",
        "\tPCA - compactação linear\n",
        "\tSOM - compactação nao linear \n",
        "\tP/Q - utilizando componentes de PCA (variancia 1/variancia2) (das classes, acho)\n",
        "\n",
        "Essas pra quadrados:\n",
        "\tMETRICAS: distancia (quadrados) de um neuronio ao outro\n",
        "\tMANHATTAN = \n",
        "\tDISTANCIA EUCLIDIANA: \n",
        "\n",
        "Essas pra hexagonal: \n",
        "\tDistancia euclidiana;\n",
        "\t\n",
        "\n",
        "\tPOS: verificar a matriz das distancias (umatrix) - VER se as classes ficaram bem definidas. \n",
        "\n",
        "\n",
        "16) Pre processamento - \n",
        "\t16.1) escolha variaveis de entrada\n",
        "\t\trelevancia é vista no pos processamento, comparando as classes.\n",
        " \n",
        "\t2) compactação/parametrização\n",
        "\t\tPCA - transformada matematica. \n",
        "\n",
        "\t3) escalamento n precisa pq é categoricas\n",
        "\n",
        "\t1.2) analise estatistica: analisar a distribuição das variaveis em cada dimensão.\n",
        "\t\tEm histograma de valores de classes. (asssociação de modas)\n",
        "\n",
        "\tCATEGORICAS: binarias e nominais, maximamente esparsa OK\n",
        "\n",
        "\n",
        "\tVALDIAÇÂO CRUZADA: treinamento e teste, sem validação. \n",
        "\n",
        "\n",
        "\n",
        "17) POS processamento\n",
        "\tVerificar Fin e dispersão.\n",
        "\n",
        "SOM:\n",
        "\n",
        "RESULTADOS: tabela de confusão. \n",
        "\tErro de classificação. \n",
        "\tSensibilidade \n",
        "\tEspecificidade\n",
        "\n",
        "\n",
        "\n",
        "ANALISE DE ERROS: \n",
        "\tOUTLIERS - eliminar\n",
        "\tBAIXA POPULAÇÂO (ponderar erros)\n",
        "\n",
        "\n",
        "RELEVANCIA DAS ENTRADAS: em um classificador uma entrada é muito relevante se sua ausência provoca um percentual elevado de modificações nas saídas (na classificação) para o conjunto das P entradas disponíveis.\n",
        "\tELIMINAR ENTRADAS COM BAIXA RELEVANCIA\n",
        "\tretreinar rede podada.\n",
        "\t\n",
        "\n",
        "REFERENCIAS\n",
        "\n",
        "1 – Duda, R.O.; Hart, P.E.; Stork, D.G., \"Pattern Classification”, Wiley, 2001, Cap 10. 2 - Haykin, S., “Neural Networks and Learning machines”, Pearson, 2009 ou “Redes Neurais, Teoria e Prática”, Bookman, 2001, Cap. 8.1, 8.2, Cap. 9. 3 – Silva, I.; Spatti, D. e Flauzini, R. - \"Redes Neurais Artificiais para Engenharia e Ciências Aplicadas\", Artliber, 2010, cap 8-10. 4 -Wasserman, P. – “Neural Computing”, Van Nostrand Reinhold, 1989, Cap 4, 8. 5 - Duda, R.O., Hart, P.E.,\"Pattern Classification and Scene Anal.”, Wiley, 1973, Cap 6 6 – Gersho, A., Gray, R.M. – “Vector Quantization and Signal Compression”, Kluwer, 1992, Part III."
      ],
      "metadata": {
        "id": "9qieyNTKs2PD"
      }
    }
  ]
}